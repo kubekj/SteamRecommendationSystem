{
 "cells": [
  {
   "cell_type": "markdown",
   "id": "d4624258a8d9eb69",
   "metadata": {},
   "source": [
    "# Dataset Exploration"
   ]
  },
  {
   "cell_type": "code",
   "execution_count": 2,
   "id": "initial_id",
   "metadata": {
    "ExecuteTime": {
     "end_time": "2024-11-12T17:57:44.176847Z",
     "start_time": "2024-11-12T17:57:42.454298Z"
    },
    "collapsed": true
   },
   "outputs": [],
   "source": [
    "import json\n",
    "\n",
    "import pandas as pd"
   ]
  },
  {
   "cell_type": "code",
   "execution_count": 27,
   "id": "4971c865208e0449",
   "metadata": {
    "ExecuteTime": {
     "end_time": "2024-11-12T18:22:16.777980Z",
     "start_time": "2024-11-12T18:22:02.856568Z"
    }
   },
   "outputs": [],
   "source": [
    "data_dir = 'data/'\n",
    "\n",
    "# Load the data\n",
    "df_games = pd.read_csv(data_dir + 'games.csv')\n",
    "df_recommendations = pd.read_csv(data_dir + 'recommendations.csv')\n",
    "df_users = pd.read_csv(data_dir + 'users.csv')\n",
    "\n",
    "with open(data_dir + 'games_metadata.json', 'r') as f:\n",
    "    metadata = json.load(f)\n",
    "\n",
    "df_metadata = pd.DataFrame(metadata)"
   ]
  },
  {
   "cell_type": "markdown",
   "id": "63da77f617743c1",
   "metadata": {},
   "source": [
    "## Games"
   ]
  },
  {
   "cell_type": "code",
   "execution_count": 4,
   "id": "4f49b6832a844004",
   "metadata": {
    "ExecuteTime": {
     "end_time": "2024-11-12T17:58:06.113790Z",
     "start_time": "2024-11-12T17:58:06.099300Z"
    }
   },
   "outputs": [
    {
     "data": {
      "text/html": [
       "<div>\n",
       "<style scoped>\n",
       "    .dataframe tbody tr th:only-of-type {\n",
       "        vertical-align: middle;\n",
       "    }\n",
       "\n",
       "    .dataframe tbody tr th {\n",
       "        vertical-align: top;\n",
       "    }\n",
       "\n",
       "    .dataframe thead th {\n",
       "        text-align: right;\n",
       "    }\n",
       "</style>\n",
       "<table border=\"1\" class=\"dataframe\">\n",
       "  <thead>\n",
       "    <tr style=\"text-align: right;\">\n",
       "      <th></th>\n",
       "      <th>app_id</th>\n",
       "      <th>title</th>\n",
       "      <th>date_release</th>\n",
       "      <th>win</th>\n",
       "      <th>mac</th>\n",
       "      <th>linux</th>\n",
       "      <th>rating</th>\n",
       "      <th>positive_ratio</th>\n",
       "      <th>user_reviews</th>\n",
       "      <th>price_final</th>\n",
       "      <th>price_original</th>\n",
       "      <th>discount</th>\n",
       "      <th>steam_deck</th>\n",
       "    </tr>\n",
       "  </thead>\n",
       "  <tbody>\n",
       "    <tr>\n",
       "      <th>0</th>\n",
       "      <td>13500</td>\n",
       "      <td>Prince of Persia: Warrior Within™</td>\n",
       "      <td>2008-11-21</td>\n",
       "      <td>True</td>\n",
       "      <td>False</td>\n",
       "      <td>False</td>\n",
       "      <td>Very Positive</td>\n",
       "      <td>84</td>\n",
       "      <td>2199</td>\n",
       "      <td>9.99</td>\n",
       "      <td>9.99</td>\n",
       "      <td>0.0</td>\n",
       "      <td>True</td>\n",
       "    </tr>\n",
       "    <tr>\n",
       "      <th>1</th>\n",
       "      <td>22364</td>\n",
       "      <td>BRINK: Agents of Change</td>\n",
       "      <td>2011-08-03</td>\n",
       "      <td>True</td>\n",
       "      <td>False</td>\n",
       "      <td>False</td>\n",
       "      <td>Positive</td>\n",
       "      <td>85</td>\n",
       "      <td>21</td>\n",
       "      <td>2.99</td>\n",
       "      <td>2.99</td>\n",
       "      <td>0.0</td>\n",
       "      <td>True</td>\n",
       "    </tr>\n",
       "    <tr>\n",
       "      <th>2</th>\n",
       "      <td>113020</td>\n",
       "      <td>Monaco: What's Yours Is Mine</td>\n",
       "      <td>2013-04-24</td>\n",
       "      <td>True</td>\n",
       "      <td>True</td>\n",
       "      <td>True</td>\n",
       "      <td>Very Positive</td>\n",
       "      <td>92</td>\n",
       "      <td>3722</td>\n",
       "      <td>14.99</td>\n",
       "      <td>14.99</td>\n",
       "      <td>0.0</td>\n",
       "      <td>True</td>\n",
       "    </tr>\n",
       "    <tr>\n",
       "      <th>3</th>\n",
       "      <td>226560</td>\n",
       "      <td>Escape Dead Island</td>\n",
       "      <td>2014-11-18</td>\n",
       "      <td>True</td>\n",
       "      <td>False</td>\n",
       "      <td>False</td>\n",
       "      <td>Mixed</td>\n",
       "      <td>61</td>\n",
       "      <td>873</td>\n",
       "      <td>14.99</td>\n",
       "      <td>14.99</td>\n",
       "      <td>0.0</td>\n",
       "      <td>True</td>\n",
       "    </tr>\n",
       "    <tr>\n",
       "      <th>4</th>\n",
       "      <td>249050</td>\n",
       "      <td>Dungeon of the ENDLESS™</td>\n",
       "      <td>2014-10-27</td>\n",
       "      <td>True</td>\n",
       "      <td>True</td>\n",
       "      <td>False</td>\n",
       "      <td>Very Positive</td>\n",
       "      <td>88</td>\n",
       "      <td>8784</td>\n",
       "      <td>11.99</td>\n",
       "      <td>11.99</td>\n",
       "      <td>0.0</td>\n",
       "      <td>True</td>\n",
       "    </tr>\n",
       "  </tbody>\n",
       "</table>\n",
       "</div>"
      ],
      "text/plain": [
       "   app_id                              title date_release   win    mac  linux  \\\n",
       "0   13500  Prince of Persia: Warrior Within™   2008-11-21  True  False  False   \n",
       "1   22364            BRINK: Agents of Change   2011-08-03  True  False  False   \n",
       "2  113020       Monaco: What's Yours Is Mine   2013-04-24  True   True   True   \n",
       "3  226560                 Escape Dead Island   2014-11-18  True  False  False   \n",
       "4  249050            Dungeon of the ENDLESS™   2014-10-27  True   True  False   \n",
       "\n",
       "          rating  positive_ratio  user_reviews  price_final  price_original  \\\n",
       "0  Very Positive              84          2199         9.99            9.99   \n",
       "1       Positive              85            21         2.99            2.99   \n",
       "2  Very Positive              92          3722        14.99           14.99   \n",
       "3          Mixed              61           873        14.99           14.99   \n",
       "4  Very Positive              88          8784        11.99           11.99   \n",
       "\n",
       "   discount  steam_deck  \n",
       "0       0.0        True  \n",
       "1       0.0        True  \n",
       "2       0.0        True  \n",
       "3       0.0        True  \n",
       "4       0.0        True  "
      ]
     },
     "execution_count": 4,
     "metadata": {},
     "output_type": "execute_result"
    }
   ],
   "source": [
    "df_games.head()"
   ]
  },
  {
   "cell_type": "markdown",
   "id": "701a56b2db3af3f6",
   "metadata": {},
   "source": [
    "### Games Completeness Check"
   ]
  },
  {
   "cell_type": "code",
   "execution_count": 34,
   "id": "237b5db0f4ec446a",
   "metadata": {
    "ExecuteTime": {
     "end_time": "2024-11-12T18:35:08.742159Z",
     "start_time": "2024-11-12T18:35:08.724657Z"
    }
   },
   "outputs": [
    {
     "name": "stdout",
     "output_type": "stream",
     "text": [
      "=== Games DataFrame Analysis ===\n",
      "\n",
      "Total number of games: 50872\n",
      "\n",
      "Missing values in each column:\n",
      "app_id            0\n",
      "title             0\n",
      "date_release      0\n",
      "win               0\n",
      "mac               0\n",
      "linux             0\n",
      "rating            0\n",
      "positive_ratio    0\n",
      "user_reviews      0\n",
      "price_final       0\n",
      "price_original    0\n",
      "discount          0\n",
      "steam_deck        0\n",
      "dtype: int64\n",
      "\n",
      "Platform availability:\n",
      "Games available on win: 50076 (98.44%)\n",
      "Games available on mac: 13018 (25.59%)\n",
      "Games available on linux: 9041 (17.77%)\n",
      "Games available on steam_deck: 50870 (100.00%)\n",
      "\n",
      "Free games/content: 10090 (19.83%)\n"
     ]
    }
   ],
   "source": [
    "print(\"=== Games DataFrame Analysis ===\")\n",
    "print(\"\\nTotal number of games:\", len(df_games))\n",
    "print(\"\\nMissing values in each column:\")\n",
    "print(df_games.isnull().sum())\n",
    "\n",
    "# Drop price_final column as it's time-sensitive, and we don't care about it here\n",
    "df_games = df_games.drop('price_final', axis=1)\n",
    "\n",
    "# Platform availability check\n",
    "print(\"\\nPlatform availability:\")\n",
    "for col in ['win', 'mac', 'linux', 'steam_deck']:\n",
    "    print(f\"Games available on {col}: {len(df_games[df_games[col] == 1])} ({(len(df_games[df_games[col] == 1])/len(df_games)*100):.2f}%)\")\n",
    "\n",
    "# Games with price_original = 0 might be legitimate free content\n",
    "free_games = len(df_games[df_games['price_original'] == 0])\n",
    "print(f\"\\nFree games/content: {free_games} ({(free_games/len(df_games)*100):.2f}%)\")"
   ]
  },
  {
   "cell_type": "markdown",
   "id": "cb968fc4f34ae860",
   "metadata": {},
   "source": [
    "## Recommendations"
   ]
  },
  {
   "cell_type": "code",
   "execution_count": 5,
   "id": "a1496c11e3a5cad5",
   "metadata": {
    "ExecuteTime": {
     "end_time": "2024-11-12T17:58:07.706645Z",
     "start_time": "2024-11-12T17:58:07.702231Z"
    }
   },
   "outputs": [
    {
     "data": {
      "text/html": [
       "<div>\n",
       "<style scoped>\n",
       "    .dataframe tbody tr th:only-of-type {\n",
       "        vertical-align: middle;\n",
       "    }\n",
       "\n",
       "    .dataframe tbody tr th {\n",
       "        vertical-align: top;\n",
       "    }\n",
       "\n",
       "    .dataframe thead th {\n",
       "        text-align: right;\n",
       "    }\n",
       "</style>\n",
       "<table border=\"1\" class=\"dataframe\">\n",
       "  <thead>\n",
       "    <tr style=\"text-align: right;\">\n",
       "      <th></th>\n",
       "      <th>app_id</th>\n",
       "      <th>helpful</th>\n",
       "      <th>funny</th>\n",
       "      <th>date</th>\n",
       "      <th>is_recommended</th>\n",
       "      <th>hours</th>\n",
       "      <th>user_id</th>\n",
       "      <th>review_id</th>\n",
       "    </tr>\n",
       "  </thead>\n",
       "  <tbody>\n",
       "    <tr>\n",
       "      <th>0</th>\n",
       "      <td>975370</td>\n",
       "      <td>0</td>\n",
       "      <td>0</td>\n",
       "      <td>2022-12-12</td>\n",
       "      <td>True</td>\n",
       "      <td>36.3</td>\n",
       "      <td>51580</td>\n",
       "      <td>0</td>\n",
       "    </tr>\n",
       "    <tr>\n",
       "      <th>1</th>\n",
       "      <td>304390</td>\n",
       "      <td>4</td>\n",
       "      <td>0</td>\n",
       "      <td>2017-02-17</td>\n",
       "      <td>False</td>\n",
       "      <td>11.5</td>\n",
       "      <td>2586</td>\n",
       "      <td>1</td>\n",
       "    </tr>\n",
       "    <tr>\n",
       "      <th>2</th>\n",
       "      <td>1085660</td>\n",
       "      <td>2</td>\n",
       "      <td>0</td>\n",
       "      <td>2019-11-17</td>\n",
       "      <td>True</td>\n",
       "      <td>336.5</td>\n",
       "      <td>253880</td>\n",
       "      <td>2</td>\n",
       "    </tr>\n",
       "    <tr>\n",
       "      <th>3</th>\n",
       "      <td>703080</td>\n",
       "      <td>0</td>\n",
       "      <td>0</td>\n",
       "      <td>2022-09-23</td>\n",
       "      <td>True</td>\n",
       "      <td>27.4</td>\n",
       "      <td>259432</td>\n",
       "      <td>3</td>\n",
       "    </tr>\n",
       "    <tr>\n",
       "      <th>4</th>\n",
       "      <td>526870</td>\n",
       "      <td>0</td>\n",
       "      <td>0</td>\n",
       "      <td>2021-01-10</td>\n",
       "      <td>True</td>\n",
       "      <td>7.9</td>\n",
       "      <td>23869</td>\n",
       "      <td>4</td>\n",
       "    </tr>\n",
       "  </tbody>\n",
       "</table>\n",
       "</div>"
      ],
      "text/plain": [
       "    app_id  helpful  funny        date  is_recommended  hours  user_id  \\\n",
       "0   975370        0      0  2022-12-12            True   36.3    51580   \n",
       "1   304390        4      0  2017-02-17           False   11.5     2586   \n",
       "2  1085660        2      0  2019-11-17            True  336.5   253880   \n",
       "3   703080        0      0  2022-09-23            True   27.4   259432   \n",
       "4   526870        0      0  2021-01-10            True    7.9    23869   \n",
       "\n",
       "   review_id  \n",
       "0          0  \n",
       "1          1  \n",
       "2          2  \n",
       "3          3  \n",
       "4          4  "
      ]
     },
     "execution_count": 5,
     "metadata": {},
     "output_type": "execute_result"
    }
   ],
   "source": [
    "df_recommendations.head()"
   ]
  },
  {
   "cell_type": "markdown",
   "id": "70068989c6af2881",
   "metadata": {},
   "source": [
    "### Recommendations Completeness Check"
   ]
  },
  {
   "cell_type": "code",
   "execution_count": 32,
   "id": "e73042a194c5fe46",
   "metadata": {
    "ExecuteTime": {
     "end_time": "2024-11-12T18:31:18.381593Z",
     "start_time": "2024-11-12T18:31:16.540996Z"
    }
   },
   "outputs": [
    {
     "name": "stdout",
     "output_type": "stream",
     "text": [
      "\n",
      "=== Recommendations DataFrame Analysis ===\n",
      "\n",
      "Total number of recommendations: 41154794\n",
      "\n",
      "Missing values in each column:\n",
      "app_id            0\n",
      "helpful           0\n",
      "funny             0\n",
      "date              0\n",
      "is_recommended    0\n",
      "hours             0\n",
      "user_id           0\n",
      "review_id         0\n",
      "dtype: int64\n",
      "\n",
      "Potentially interesting values:\n",
      "Reviews with zero hours played: 176329 (0.43%)\n",
      "Not recommended games: 5850396 (14.22%)\n"
     ]
    }
   ],
   "source": [
    "print(\"\\n=== Recommendations DataFrame Analysis ===\")\n",
    "print(\"\\nTotal number of recommendations:\", len(df_recommendations))\n",
    "print(\"\\nMissing values in each column:\")\n",
    "print(df_recommendations.isna().sum())\n",
    "\n",
    "print(\"\\nPotentially interesting values:\")\n",
    "zero_hours = len(df_recommendations[df_recommendations['hours'] == 0])\n",
    "print(f\"Reviews with zero hours played: {zero_hours} ({(zero_hours / len(df_recommendations) * 100):.2f}%)\")\n",
    "print(f\"Not recommended games: {len(df_recommendations[df_recommendations['is_recommended'] == False])} ({(len(df_recommendations[df_recommendations['is_recommended'] == False]) / len(df_recommendations) * 100):.2f}%)\")\n"
   ]
  },
  {
   "cell_type": "markdown",
   "id": "9566b87f2673182e",
   "metadata": {},
   "source": [
    "## Users"
   ]
  },
  {
   "cell_type": "code",
   "execution_count": 6,
   "id": "5433ecc55416ff24",
   "metadata": {
    "ExecuteTime": {
     "end_time": "2024-11-12T17:58:09.342014Z",
     "start_time": "2024-11-12T17:58:09.337177Z"
    }
   },
   "outputs": [
    {
     "data": {
      "text/html": [
       "<div>\n",
       "<style scoped>\n",
       "    .dataframe tbody tr th:only-of-type {\n",
       "        vertical-align: middle;\n",
       "    }\n",
       "\n",
       "    .dataframe tbody tr th {\n",
       "        vertical-align: top;\n",
       "    }\n",
       "\n",
       "    .dataframe thead th {\n",
       "        text-align: right;\n",
       "    }\n",
       "</style>\n",
       "<table border=\"1\" class=\"dataframe\">\n",
       "  <thead>\n",
       "    <tr style=\"text-align: right;\">\n",
       "      <th></th>\n",
       "      <th>user_id</th>\n",
       "      <th>products</th>\n",
       "      <th>reviews</th>\n",
       "    </tr>\n",
       "  </thead>\n",
       "  <tbody>\n",
       "    <tr>\n",
       "      <th>0</th>\n",
       "      <td>7360263</td>\n",
       "      <td>359</td>\n",
       "      <td>0</td>\n",
       "    </tr>\n",
       "    <tr>\n",
       "      <th>1</th>\n",
       "      <td>14020781</td>\n",
       "      <td>156</td>\n",
       "      <td>1</td>\n",
       "    </tr>\n",
       "    <tr>\n",
       "      <th>2</th>\n",
       "      <td>8762579</td>\n",
       "      <td>329</td>\n",
       "      <td>4</td>\n",
       "    </tr>\n",
       "    <tr>\n",
       "      <th>3</th>\n",
       "      <td>4820647</td>\n",
       "      <td>176</td>\n",
       "      <td>4</td>\n",
       "    </tr>\n",
       "    <tr>\n",
       "      <th>4</th>\n",
       "      <td>5167327</td>\n",
       "      <td>98</td>\n",
       "      <td>2</td>\n",
       "    </tr>\n",
       "  </tbody>\n",
       "</table>\n",
       "</div>"
      ],
      "text/plain": [
       "    user_id  products  reviews\n",
       "0   7360263       359        0\n",
       "1  14020781       156        1\n",
       "2   8762579       329        4\n",
       "3   4820647       176        4\n",
       "4   5167327        98        2"
      ]
     },
     "execution_count": 6,
     "metadata": {},
     "output_type": "execute_result"
    }
   ],
   "source": [
    "df_users.head()"
   ]
  },
  {
   "cell_type": "markdown",
   "id": "9e59cca8bfc388ba",
   "metadata": {},
   "source": [
    "### Users Completeness Check"
   ]
  },
  {
   "cell_type": "code",
   "execution_count": 35,
   "id": "1a7063cb19a48987",
   "metadata": {
    "ExecuteTime": {
     "end_time": "2024-11-12T18:37:12.265696Z",
     "start_time": "2024-11-12T18:37:12.112496Z"
    }
   },
   "outputs": [
    {
     "name": "stdout",
     "output_type": "stream",
     "text": [
      "\n",
      "=== Users DataFrame Analysis ===\n",
      "\n",
      "Total number of users: 14306064\n",
      "\n",
      "Missing values in each column:\n",
      "user_id     0\n",
      "products    0\n",
      "reviews     0\n",
      "dtype: int64\n",
      "\n",
      "Users with zero values:\n",
      "Users with zero products: 139318 (0.97%)\n",
      "Users with zero reviews: 525005 (3.67%)\n"
     ]
    }
   ],
   "source": [
    "print(\"\\n=== Users DataFrame Analysis ===\")\n",
    "print(\"\\nTotal number of users:\", len(df_users))\n",
    "print(\"\\nMissing values in each column:\")\n",
    "print(df_users.isna().sum())\n",
    "\n",
    "print(\"\\nUsers with zero values:\")\n",
    "for col in ['products', 'reviews']:\n",
    "    zero_count = len(df_users[df_users[col] == 0])\n",
    "    print(f\"Users with zero {col}: {zero_count} ({(zero_count / len(df_users) * 100):.2f}%)\")"
   ]
  },
  {
   "cell_type": "markdown",
   "id": "e7804015c21eeda",
   "metadata": {},
   "source": [
    "## Games metadata"
   ]
  },
  {
   "cell_type": "code",
   "execution_count": 22,
   "id": "6c503d991761f380",
   "metadata": {
    "ExecuteTime": {
     "end_time": "2024-11-12T18:17:58.063384Z",
     "start_time": "2024-11-12T18:17:58.057065Z"
    }
   },
   "outputs": [
    {
     "data": {
      "text/html": [
       "<div>\n",
       "<style scoped>\n",
       "    .dataframe tbody tr th:only-of-type {\n",
       "        vertical-align: middle;\n",
       "    }\n",
       "\n",
       "    .dataframe tbody tr th {\n",
       "        vertical-align: top;\n",
       "    }\n",
       "\n",
       "    .dataframe thead th {\n",
       "        text-align: right;\n",
       "    }\n",
       "</style>\n",
       "<table border=\"1\" class=\"dataframe\">\n",
       "  <thead>\n",
       "    <tr style=\"text-align: right;\">\n",
       "      <th></th>\n",
       "      <th>app_id</th>\n",
       "      <th>description</th>\n",
       "      <th>tags</th>\n",
       "    </tr>\n",
       "  </thead>\n",
       "  <tbody>\n",
       "    <tr>\n",
       "      <th>0</th>\n",
       "      <td>13500</td>\n",
       "      <td>Enter the dark underworld of Prince of Persia ...</td>\n",
       "      <td>[Action, Adventure, Parkour, Third Person, Gre...</td>\n",
       "    </tr>\n",
       "    <tr>\n",
       "      <th>1</th>\n",
       "      <td>22364</td>\n",
       "      <td></td>\n",
       "      <td>[Action]</td>\n",
       "    </tr>\n",
       "    <tr>\n",
       "      <th>2</th>\n",
       "      <td>113020</td>\n",
       "      <td>Monaco: What's Yours Is Mine is a single playe...</td>\n",
       "      <td>[Co-op, Stealth, Indie, Heist, Local Co-Op, St...</td>\n",
       "    </tr>\n",
       "    <tr>\n",
       "      <th>3</th>\n",
       "      <td>226560</td>\n",
       "      <td>Escape Dead Island is a Survival-Mystery adven...</td>\n",
       "      <td>[Zombies, Adventure, Survival, Action, Third P...</td>\n",
       "    </tr>\n",
       "    <tr>\n",
       "      <th>4</th>\n",
       "      <td>249050</td>\n",
       "      <td>Dungeon of the Endless is a Rogue-Like Dungeon...</td>\n",
       "      <td>[Roguelike, Strategy, Tower Defense, Pixel Gra...</td>\n",
       "    </tr>\n",
       "  </tbody>\n",
       "</table>\n",
       "</div>"
      ],
      "text/plain": [
       "   app_id                                        description  \\\n",
       "0   13500  Enter the dark underworld of Prince of Persia ...   \n",
       "1   22364                                                      \n",
       "2  113020  Monaco: What's Yours Is Mine is a single playe...   \n",
       "3  226560  Escape Dead Island is a Survival-Mystery adven...   \n",
       "4  249050  Dungeon of the Endless is a Rogue-Like Dungeon...   \n",
       "\n",
       "                                                tags  \n",
       "0  [Action, Adventure, Parkour, Third Person, Gre...  \n",
       "1                                           [Action]  \n",
       "2  [Co-op, Stealth, Indie, Heist, Local Co-Op, St...  \n",
       "3  [Zombies, Adventure, Survival, Action, Third P...  \n",
       "4  [Roguelike, Strategy, Tower Defense, Pixel Gra...  "
      ]
     },
     "execution_count": 22,
     "metadata": {},
     "output_type": "execute_result"
    }
   ],
   "source": [
    "df_metadata.head()"
   ]
  },
  {
   "cell_type": "markdown",
   "id": "ee36c147ae844bc",
   "metadata": {},
   "source": [
    "### Metadata Completeness Check"
   ]
  },
  {
   "cell_type": "code",
   "execution_count": 25,
   "id": "53e3796580bddda7",
   "metadata": {
    "ExecuteTime": {
     "end_time": "2024-11-12T18:19:43.914789Z",
     "start_time": "2024-11-12T18:19:43.817351Z"
    }
   },
   "outputs": [
    {
     "name": "stdout",
     "output_type": "stream",
     "text": [
      "\n",
      "Most common tags:\n",
      "tags\n",
      "Indie            27957\n",
      "Singleplayer     22566\n",
      "Action           21897\n",
      "Adventure        20183\n",
      "Casual           17844\n",
      "                 ...  \n",
      "Volleyball          10\n",
      "Hobby Sim            6\n",
      "Tile-Matching        5\n",
      "Fox                  5\n",
      "Coding               4\n",
      "Name: count, Length: 441, dtype: int64\n",
      "\n",
      "Percentage of games with each tag:\n",
      "tags\n",
      "Indie            54.96\n",
      "Singleplayer     44.36\n",
      "Action           43.04\n",
      "Adventure        39.67\n",
      "Casual           35.08\n",
      "                 ...  \n",
      "Volleyball        0.02\n",
      "Hobby Sim         0.01\n",
      "Tile-Matching     0.01\n",
      "Fox               0.01\n",
      "Coding            0.01\n",
      "Name: count, Length: 441, dtype: float64\n",
      "\n",
      "Tags per game statistics:\n",
      "count    50872.000000\n",
      "mean        11.484019\n",
      "std          7.256911\n",
      "min          0.000000\n",
      "25%          4.000000\n",
      "50%         11.000000\n",
      "75%         20.000000\n",
      "max         20.000000\n",
      "Name: tags, dtype: float64\n"
     ]
    }
   ],
   "source": [
    "#####################\n",
    "# Tags distribution #\n",
    "#####################\n",
    "\n",
    "# Explode (Transform each element of a list-like to a row) the tags list into separate rows\n",
    "tags_df = df_metadata[['app_id', 'tags']].explode('tags')\n",
    "\n",
    "print(\"\\nMost common tags:\")\n",
    "print(tags_df['tags'].value_counts())\n",
    "\n",
    "# Percentage of games with each tag\n",
    "total_games = len(df_metadata)\n",
    "tag_percentages = (tags_df['tags'].value_counts() / total_games * 100).round(2)\n",
    "\n",
    "print(\"\\nPercentage of games with each tag:\")\n",
    "print(tag_percentages)\n",
    "\n",
    "# Statistics about number of tags per game\n",
    "tags_per_game = df_metadata['tags'].str.len()\n",
    "\n",
    "print(\"\\nTags per game statistics:\")\n",
    "print(tags_per_game.describe())"
   ]
  },
  {
   "cell_type": "code",
   "execution_count": 17,
   "id": "551e2e992d555934",
   "metadata": {
    "ExecuteTime": {
     "end_time": "2024-11-12T18:09:22.227087Z",
     "start_time": "2024-11-12T18:09:22.182862Z"
    }
   },
   "outputs": [
    {
     "name": "stdout",
     "output_type": "stream",
     "text": [
      "Number of games with empty tags list: 1244\n",
      "\n",
      "Number of games with empty descriptions: 10373\n",
      "\n",
      "Number of games with both empty tags and descriptions: 1229\n",
      "\n",
      "Dataset summary:\n",
      "Total number of games: 50872\n",
      "Complete records (non-empty tags and descriptions): 40484\n",
      "Records with either empty tags or empty descriptions: 10388\n"
     ]
    }
   ],
   "source": [
    "# Check for empty lists in tags\n",
    "empty_tags = df_metadata[df_metadata['tags'].apply(lambda x: len(x) == 0)]\n",
    "print(\"Number of games with empty tags list:\", len(empty_tags))\n",
    "\n",
    "# Check for empty strings in descriptions\n",
    "empty_descriptions = df_metadata[df_metadata['description'] == '']\n",
    "print(\"\\nNumber of games with empty descriptions:\", len(empty_descriptions))\n",
    "\n",
    "# Check for both empty tags and empty descriptions\n",
    "both_empty = df_metadata[(df_metadata['tags'].apply(lambda x: len(x) == 0)) & \n",
    "                        (df_metadata['description'] == '')]\n",
    "print(\"\\nNumber of games with both empty tags and descriptions:\", len(both_empty))\n",
    "\n",
    "# Summary statistics\n",
    "print(\"\\nDataset summary:\")\n",
    "print(f\"Total number of games: {len(df_metadata)}\")\n",
    "print(f\"Complete records (non-empty tags and descriptions): {len(df_metadata[(df_metadata['tags'].apply(lambda x: len(x) > 0)) & (df_metadata['description'] != '')])}\") \n",
    "print(f\"Records with either empty tags or empty descriptions: {len(df_metadata[(df_metadata['tags'].apply(lambda x: len(x) == 0)) | (df_metadata['description'] == '')])}\")\n"
   ]
  },
  {
   "cell_type": "code",
   "execution_count": 31,
   "id": "e6fd1d4fb3cac6f6",
   "metadata": {
    "ExecuteTime": {
     "end_time": "2024-11-12T18:24:32.426114Z",
     "start_time": "2024-11-12T18:24:17.846405Z"
    }
   },
   "outputs": [
    {
     "name": "stdout",
     "output_type": "stream",
     "text": [
      "\n",
      "=== Cross-DataFrame Consistency ===\n",
      "Users in users df but not in recommendations: 525005\n",
      "Games in games df but not in recommendations: 13262\n"
     ]
    }
   ],
   "source": [
    "# Data consistency across DataFrames\n",
    "print(\"\\n=== Cross-DataFrame Consistency ===\")\n",
    "print(f\"Users in users df but not in recommendations: {len(set(df_users['user_id']) - set(df_recommendations['user_id']))}\")\n",
    "print(f\"Games in games df but not in recommendations: {len(set(df_games['app_id']) - set(df_recommendations['app_id']))}\")"
   ]
  },
  {
   "cell_type": "markdown",
   "id": "c9fbbaf93c5362ac",
   "metadata": {},
   "source": [
    "# Handling missing data\n",
    "There are a few challenges here that we should address:\n",
    "\n",
    "### Missing Data Issues:\n",
    "- ~2.4% games have empty tags (1,244 out of 50,872)\n",
    "- ~20.4% games have empty descriptions (10,373)\n",
    "- ~2.4% games have both empty tags and descriptions (1,229)\n",
    "- Only ~79.6% games (40,484) have complete records\n",
    "\n",
    "### Language Issue:\n",
    "For descriptions in different languages we could either:\n",
    "1. Use language detection and filter out non-English descriptions\n",
    "2. Use a translation service to translate the descriptions to English\n",
    "\n",
    "### Missing Data:\n",
    "1. Fetch lacking data from Steam Web API\n",
    "2. Remove games with missing data"
   ]
  },
  {
   "cell_type": "markdown",
   "id": "1e5bae74c6abf63f",
   "metadata": {},
   "source": [
    "## 1st approach: Filling missing data\n",
    "\n",
    "This approach requires a Steam API key and a script to fetch the missing data. For this case we implemented a steam_scraper which can be found under a folder with corresponding name. The problem is that, the missing data is missing at the core (Steam platform itself), so it's not possible to fetch it properly."
   ]
  },
  {
   "cell_type": "markdown",
   "id": "e468c9bc3a99ff4c",
   "metadata": {},
   "source": [
    "## 2nd approach: Removing the games with missing data"
   ]
  },
  {
   "cell_type": "code",
   "execution_count": 36,
   "id": "e6ac2c5c29ed35c6",
   "metadata": {
    "ExecuteTime": {
     "end_time": "2024-11-12T19:14:25.879584Z",
     "start_time": "2024-11-12T19:13:43.181407Z"
    }
   },
   "outputs": [
    {
     "name": "stdout",
     "output_type": "stream",
     "text": [
      "\n",
      "Dataset sizes:\n",
      "Original: 50872 games\n",
      "Complete English records: 39540 games\n"
     ]
    }
   ],
   "source": [
    "from langdetect import detect\n",
    "\n",
    "def is_english(text):\n",
    "    try:\n",
    "        return detect(text) == 'en'\n",
    "    except:\n",
    "        return False\n",
    "\n",
    "\n",
    "complete_metadata = df_metadata[\n",
    "    (df_metadata['tags'].apply(len) > 0) & \n",
    "    (df_metadata['description'] != '') &\n",
    "    (df_metadata['description'].apply(is_english))\n",
    "]\n",
    "\n",
    "print(\"\\nDataset sizes:\")\n",
    "print(f\"Original: {len(df_metadata)} games\")\n",
    "print(f\"Complete English records: {len(complete_metadata)} games\")"
   ]
  }
 ],
 "metadata": {
  "kernelspec": {
   "display_name": "ML",
   "language": "python",
   "name": "python3"
  },
  "language_info": {
   "codemirror_mode": {
    "name": "ipython",
    "version": 3
   },
   "file_extension": ".py",
   "mimetype": "text/x-python",
   "name": "python",
   "nbconvert_exporter": "python",
   "pygments_lexer": "ipython3",
   "version": "3.12.0"
  }
 },
 "nbformat": 4,
 "nbformat_minor": 5
}
